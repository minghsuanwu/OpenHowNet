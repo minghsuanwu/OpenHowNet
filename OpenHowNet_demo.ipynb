{
 "cells": [
  {
   "cell_type": "markdown",
   "source": [
    "# A simple demo for the OpenHowNet Python Package\n",
    "\n",
    "To begin with, make sure you have installed **Python 3.X**. The **anytree** dependency is required to be installed.\n",
    "\n",
    "It is our only required dependency because other python packages we need in building the OpenHowNet Python Package will be defaultly installed with the Python 3.X.\n",
    "\n",
    "Then you should download the **OpenHowNet Package**. Please checkout the installation by import the module like the following code:"
   ],
   "metadata": {}
  },
  {
   "cell_type": "code",
   "execution_count": 1,
   "source": [
    "# Import the OpenHowNet module\n",
    "import OpenHowNet"
   ],
   "outputs": [],
   "metadata": {}
  },
  {
   "cell_type": "markdown",
   "source": [
    "After that we can build a **HowNetDict**:"
   ],
   "metadata": {}
  },
  {
   "cell_type": "code",
   "execution_count": 2,
   "source": [
    "# Initialize the HowNetDict, you can initialize the similarity calculation module by setting the init_sim to True.\n",
    "hownet_dict = OpenHowNet.HowNetDict(init_sim=False)"
   ],
   "outputs": [
    {
     "output_type": "stream",
     "name": "stdout",
     "text": [
      "Initializing OpenHowNet succeeded!\n"
     ]
    }
   ],
   "metadata": {}
  },
  {
   "cell_type": "markdown",
   "source": [
    "Now the preparation work is all done. Then let's explore some important features of HowNetDict."
   ],
   "metadata": {}
  },
  {
   "cell_type": "markdown",
   "source": [
    "## Basic Usage of OpenHowNet Python Package\n",
    "\n",
    "### Get word annotations in HowNet\n",
    "\n",
    "By default, the api will search the target word in both English and Chinese annotations in HowNet, which will cause significant search overhead. Note that if the target word does not exist in HowNet annotation, this api will simply return an empty list."
   ],
   "metadata": {}
  },
  {
   "cell_type": "code",
   "execution_count": 3,
   "source": [
    "# Get the senses list annotated with \"苹果\".\n",
    "result_list = hownet_dict.get_sense(\"苹果\")\n",
    "print(\"The number of retrievals: \", len(result_list))\n",
    "print(\"An example of retrievals: \", result_list)"
   ],
   "outputs": [
    {
     "output_type": "stream",
     "name": "stdout",
     "text": [
      "The number of retrievals:  8\n",
      "An example of retrievals:  [No.244401|apple|苹果, No.244402|malus pumila|苹果, No.244403|orchard apple tree|苹果, No.244396|apple|苹果, No.244397|apple|苹果, No.244398|IPHONE|苹果, No.244399|apple|苹果, No.244400|iphone|苹果]\n"
     ]
    }
   ],
   "metadata": {}
  },
  {
   "cell_type": "markdown",
   "source": [
    "In OpenHowNet package, the detailed information of senses and sememes in HowNet are wrapped into classes."
   ],
   "metadata": {}
  },
  {
   "cell_type": "code",
   "execution_count": 4,
   "source": [
    "# Get the detailed information of the sense.\n",
    "sense_example = result_list[0]\n",
    "print(\"Sense example:\", sense_example)\n",
    "print(\"Sense id: \",sense_example.No)\n",
    "print(\"English word in the sense: \", sense_example.en_word)\n",
    "print(\"Chinese word in the sense: \", sense_example.zh_word)\n",
    "print(\"HowNet annotation of the sense: \", sense_example.Def)\n",
    "print(\"Sememe list of the sense: \", sense_example.get_sememe_list())"
   ],
   "outputs": [
    {
     "output_type": "stream",
     "name": "stdout",
     "text": [
      "Sense example: No.244401|apple|苹果\n",
      "Sense id:  000000244401\n",
      "English word in the sense:  apple\n",
      "Chinese word in the sense:  苹果\n",
      "HowNet annotation of the sense:  {tree|树:{reproduce|生殖:PatientProduct={fruit|水果},agent={~}}}\n",
      "Sememe list of the sense:  {fruit|水果, tree|树, reproduce|生殖}\n"
     ]
    }
   ],
   "metadata": {}
  },
  {
   "cell_type": "code",
   "execution_count": 5,
   "source": [
    "# Get the detailed information of the sememe.\n",
    "sememe_example = sense_example.get_sememe_list().pop()\n",
    "print(\"Sememe example: \", sememe_example)\n",
    "print(\"The English annotation of the sememe: \", sememe_example.en)\n",
    "print(\"The Chinese annotation of the sememe: \", sememe_example.zh)\n",
    "print(\"The frequency of occurrence of the sememe in HowNet: \", sememe_example.freq)"
   ],
   "outputs": [
    {
     "output_type": "stream",
     "name": "stdout",
     "text": [
      "Sememe example:  fruit|水果\n",
      "The English annotation of the sememe:  fruit\n",
      "The Chinese annotation of the sememe:  水果\n",
      "The frequency of occurrence of the sememe in HowNet:  432\n"
     ]
    }
   ],
   "metadata": {}
  },
  {
   "cell_type": "markdown",
   "source": [
    "You can visualize the retrieved HowNet structured annotations (\"sememe tree\") of sense as follow :"
   ],
   "metadata": {}
  },
  {
   "cell_type": "code",
   "execution_count": 6,
   "source": [
    "sense_example.visualize_sememe_tree()"
   ],
   "outputs": [
    {
     "output_type": "stream",
     "name": "stdout",
     "text": [
      "[sense]No.244401|apple|苹果\n",
      "└── [None]tree|树\n",
      "    └── [agent]reproduce|生殖\n",
      "        └── [PatientProduct]fruit|水果\n",
      "\n"
     ]
    }
   ],
   "metadata": {}
  },
  {
   "cell_type": "markdown",
   "source": [
    "Besides, you can get the Sememe instance list by the English annotation or Chinese annotation. Similarily, you can set the language of the input or set the `strict` to `False` to fuzzy match the sememe."
   ],
   "metadata": {}
  },
  {
   "cell_type": "code",
   "execution_count": 7,
   "source": [
    "sememe1 = hownet_dict.get_sememe('FormValue', language='en')\n",
    "sememe2 = hownet_dict.get_sememe('圆', language='zh')\n",
    "print(\"Retrieved sememes: \",sememe1, sememe2)\n",
    "\n",
    "sememe3 = hownet_dict.get_sememe('值', strict=False)\n",
    "print(\"Fuzzy match the sememes (retrieved {} results): \".format(len(sememe3)), sememe3[:5])\n",
    "\n",
    "sememe_all = hownet_dict.get_all_sememes()\n",
    "print(\"There are {} sememes in HowNet in total.\".format(len(sememe_all)))"
   ],
   "outputs": [
    {
     "output_type": "stream",
     "name": "stdout",
     "text": [
      "Retrieved sememes:  [FormValue|形状值] [round|圆]\n",
      "Fuzzy match the sememes (retrieved 249 results):  [PropertyValue|特性值, FinenessValue|粗细值, AgeValue|年龄值, DistanceValue|距离值, PerformanceValue|性能值]\n",
      "There are 2540 sememes in HowNet in total.\n"
     ]
    }
   ],
   "metadata": {}
  },
  {
   "cell_type": "markdown",
   "source": [
    "To boost the efficiency of the search process, you can specify the language of the target word as the following."
   ],
   "metadata": {}
  },
  {
   "cell_type": "code",
   "execution_count": 8,
   "source": [
    "print(\"The number of mixed search results:\",len(hownet_dict.get_sense(\"X\")))\n",
    "print(\"The number of Chinese results:\",len(hownet_dict.get_sense(\"X\",language=\"zh\")))\n",
    "print(\"The number of English results:\",len(hownet_dict.get_sense(\"X\",language=\"en\")))"
   ],
   "outputs": [
    {
     "output_type": "stream",
     "name": "stdout",
     "text": [
      "The number of mixed search results: 3\n",
      "The number of Chinese results: 3\n",
      "The number of English results: 2\n"
     ]
    }
   ],
   "metadata": {}
  },
  {
   "cell_type": "markdown",
   "source": [
    "You can limit the POS of the target word by setting the `pos`.  Besides, you can set the `strict` to false to make a fuzzy match."
   ],
   "metadata": {}
  },
  {
   "cell_type": "code",
   "execution_count": 9,
   "source": [
    "\n",
    "res = hownet_dict.get_sense(\"苹果\", strict=False)\n",
    "print(\"Fuzzy match: (The number of retrievals: {})\".format(len(res)))\n",
    "print(\"Retrivals: {}\\n\".format(res))\n",
    "res = hownet_dict.get_sense(\"苹果\",pos='adj', strict=False)\n",
    "print(\"Fuzzy match and limit the POS to adj: (The number of retrievals: {})\".format(len(res)))\n",
    "print(\"Retrivals: {}\".format(res))\n"
   ],
   "outputs": [
    {
     "output_type": "stream",
     "name": "stdout",
     "text": [
      "Fuzzy match: (The number of retrievals: 32)\n",
      "Retrivals: [No.244427|hard cider|苹果酒, No.244428|apple jam|苹果酱, No.244401|apple|苹果, No.180902|French apple tart|法式苹果挞, No.244424|apple gateau|苹果蛋糕, No.244402|malus pumila|苹果, No.244429|apple pie|苹果馅饼, No.244403|orchard apple tree|苹果, No.244404|Apple|苹果公司, No.244405|apple jelly|苹果冻, No.244406|apple-scented|苹果味, No.244425|cider|苹果酒, No.244407|curry chicken with apple|苹果咖喱鸡, No.244408|apple orchard|苹果园, No.244409||苹果园西锦江之星, No.244413|apple|苹果树, No.244414|apple tree|苹果树, No.244426|cyder|苹果酒, No.244415|apple juice|苹果汁, No.63141||北京双井苹果酒店, No.244416|apple pie|苹果派, No.244419|apple and fish soup|苹果煲生鱼汤, No.244420|MAC|苹果电脑, No.63229||北京四季苹果酒店, No.244396|apple|苹果, No.244421|mac|苹果电脑, No.244397|apple|苹果, No.244423|apple green|苹果绿, No.244398|IPHONE|苹果, No.244399|apple|苹果, No.199378|baked apples|焗苹果, No.244400|iphone|苹果]\n",
      "\n",
      "Fuzzy match and limit the POS to adj: (The number of retrievals: 2)\n",
      "Retrivals: [No.244406|apple-scented|苹果味, No.244423|apple green|苹果绿]\n"
     ]
    }
   ],
   "metadata": {}
  },
  {
   "cell_type": "markdown",
   "source": [
    "You can get all senses by setting the `word` to *. Besides, setting the `word` to the sense id also works."
   ],
   "metadata": {}
  },
  {
   "cell_type": "code",
   "execution_count": 10,
   "source": [
    "all_senses = hownet_dict.get_sense('*')\n",
    "print(\"The number of all senses: {}\".format(len(all_senses)))"
   ],
   "outputs": [
    {
     "output_type": "stream",
     "name": "stdout",
     "text": [
      "The number of all senses: 237974\n"
     ]
    }
   ],
   "metadata": {}
  },
  {
   "cell_type": "markdown",
   "source": [
    "Besides, you can also get all the English or Chinese words in HowNet annotations."
   ],
   "metadata": {}
  },
  {
   "cell_type": "code",
   "execution_count": 11,
   "source": [
    "zh_word_list = hownet_dict.get_zh_words()\n",
    "en_word_list = hownet_dict.get_en_words()\n",
    "print(\"Chinese words in HowNet: \",zh_word_list[:30])\n",
    "print(\"English words in HowNet: \",en_word_list[:30])"
   ],
   "outputs": [
    {
     "output_type": "stream",
     "name": "stdout",
     "text": [
      "Chinese words in HowNet:  ['', '\"', '#', '#号标签', '$', '$.J.', '$A.', '$NZ.', '%', \"'\", '(', ')', '*', '+', ',', '-', '--', '.', '...', '...为止', '...也同样使然', '...以上', '...以内', '...以来', '...何如', '...内', '...出什么问题', '...发生了什么', '...发生故障', '...家里有几口人']\n",
      "English words in HowNet:  ['A', 'An', 'Frenchmen', 'Frenchwomen', 'Ottomans', 'a', 'aardwolves', 'abaci', 'abandoned', 'abbreviated', 'abode', 'aboideaux', 'aboiteaux', 'abscissae', 'absorbed', 'acanthi', 'acari', 'accepted', 'acciaccature', 'acclaimed', 'accommodating', 'accompanied', 'accounting', 'accused', 'acetabula', 'acetified', 'aching', 'acicula', 'acini', 'acquired']\n"
     ]
    }
   ],
   "metadata": {}
  },
  {
   "cell_type": "markdown",
   "source": [
    "### Get Sememe Trees for certain word in HowNet¶\n",
    "\n",
    "You can get the sememes by certain word in a variety of forms of presentation. Detailed explanation of params will be displayed in our documentation.\n",
    "First, you can retrieve all the senses annotated with the certain word and their sememes."
   ],
   "metadata": {}
  },
  {
   "cell_type": "code",
   "execution_count": 12,
   "source": [
    "# Get the respective sememe list of the senses annotated with the word.\n",
    "# The word can be English or Chinese or *\n",
    "hownet_dict.get_sememes_by_word(word = '苹果', display='list', merge=False, expanded_layer=-1, K=None)"
   ],
   "outputs": [
    {
     "output_type": "execute_result",
     "data": {
      "text/plain": [
       "[{'sense': No.244396|apple|苹果,\n",
       "  'sememes': {PatternValue|样式值, SpeBrand|特定牌子, able|能, bring|携带, computer|电脑}},\n",
       " {'sense': No.244397|apple|苹果, 'sememes': {fruit|水果}},\n",
       " {'sense': No.244398|IPHONE|苹果,\n",
       "  'sememes': {PatternValue|样式值,\n",
       "   SpeBrand|特定牌子,\n",
       "   able|能,\n",
       "   bring|携带,\n",
       "   communicate|交流,\n",
       "   tool|用具}},\n",
       " {'sense': No.244399|apple|苹果,\n",
       "  'sememes': {PatternValue|样式值,\n",
       "   SpeBrand|特定牌子,\n",
       "   able|能,\n",
       "   bring|携带,\n",
       "   communicate|交流,\n",
       "   tool|用具}},\n",
       " {'sense': No.244400|iphone|苹果,\n",
       "  'sememes': {PatternValue|样式值,\n",
       "   SpeBrand|特定牌子,\n",
       "   able|能,\n",
       "   bring|携带,\n",
       "   communicate|交流,\n",
       "   tool|用具}},\n",
       " {'sense': No.244401|apple|苹果, 'sememes': {fruit|水果, reproduce|生殖, tree|树}},\n",
       " {'sense': No.244402|malus pumila|苹果,\n",
       "  'sememes': {fruit|水果, reproduce|生殖, tree|树}},\n",
       " {'sense': No.244403|orchard apple tree|苹果,\n",
       "  'sememes': {fruit|水果, reproduce|生殖, tree|树}}]"
      ]
     },
     "metadata": {},
     "execution_count": 12
    }
   ],
   "metadata": {}
  },
  {
   "cell_type": "markdown",
   "source": [
    "The `display` can be set to \"tree\"/\"dict\"/\"list\"/\"visual\", and the function will return in different forms.\n",
    "1. When set to \"list\", the sememes will be returned in the form of list as shown above.\n",
    "2. When set to \"dict\", the function will return the sememe tree in the form of dict as shown below."
   ],
   "metadata": {}
  },
  {
   "cell_type": "code",
   "execution_count": 13,
   "source": [
    "hownet_dict.get_sememes_by_word(word = '苹果', display='dict', merge=False, expanded_layer=-1, K=None)[0]"
   ],
   "outputs": [
    {
     "output_type": "execute_result",
     "data": {
      "text/plain": [
       "{'sense': No.244396|apple|苹果,\n",
       " 'sememes': {'role': 'sense',\n",
       "  'name': No.244396|apple|苹果,\n",
       "  'children': [{'role': 'None',\n",
       "    'name': computer|电脑,\n",
       "    'children': [{'role': 'modifier',\n",
       "      'name': PatternValue|样式值,\n",
       "      'children': [{'role': 'CoEvent',\n",
       "        'name': able|能,\n",
       "        'children': [{'role': 'scope',\n",
       "          'name': bring|携带,\n",
       "          'children': [{'role': 'patient', 'name': '$'}]}]}]},\n",
       "     {'role': 'patient', 'name': SpeBrand|特定牌子}]}]}}"
      ]
     },
     "metadata": {},
     "execution_count": 13
    }
   ],
   "metadata": {}
  },
  {
   "cell_type": "markdown",
   "source": [
    "3. When set to \"tree\", the function will return the senses and the root node of their respective sememe tree. "
   ],
   "metadata": {}
  },
  {
   "cell_type": "code",
   "execution_count": 14,
   "source": [
    "t = hownet_dict.get_sememes_by_word(word = '苹果', display='tree', merge=False, expanded_layer=-1, K=None)[0]\n",
    "print(t)\n",
    "print(\"The type of the root node is:\", type(t['sememes']))"
   ],
   "outputs": [
    {
     "output_type": "stream",
     "name": "stdout",
     "text": [
      "{'sense': No.244396|apple|苹果, 'sememes': Node('/No.244396|apple|苹果', role='sense')}\n",
      "The type of the root node is: <class 'anytree.node.node.Node'>\n"
     ]
    }
   ],
   "metadata": {}
  },
  {
   "cell_type": "markdown",
   "source": [
    "4. When set to \"visual\", the function will visualize the Top-K sememe trees. At this point, `K` can be set to control the num of the visualized sememe trees. "
   ],
   "metadata": {}
  },
  {
   "cell_type": "code",
   "execution_count": 15,
   "source": [
    "hownet_dict.get_sememes_by_word(word = '苹果', display='visual', merge=False, expanded_layer=-1, K=2)"
   ],
   "outputs": [
    {
     "output_type": "stream",
     "name": "stdout",
     "text": [
      "Find 8 result(s)\n",
      "Display #0 sememe tree\n",
      "[sense]No.244396|apple|苹果\n",
      "└── [None]computer|电脑\n",
      "    ├── [modifier]PatternValue|样式值\n",
      "    │   └── [CoEvent]able|能\n",
      "    │       └── [scope]bring|携带\n",
      "    │           └── [patient]$\n",
      "    └── [patient]SpeBrand|特定牌子\n",
      "\n",
      "Display #1 sememe tree\n",
      "[sense]No.244397|apple|苹果\n",
      "└── [None]fruit|水果\n",
      "\n"
     ]
    }
   ],
   "metadata": {}
  },
  {
   "cell_type": "markdown",
   "source": [
    "5. `merge` and `expanded_layer` only work when `display==\"list\"`. When `merge==True`, the sememe lists of all the senses retrieved by the word will be merged into one. `expanded_layer` is set to control the expanded layer num of the sememe tree and by default it will be set to -1(expanded all layers)."
   ],
   "metadata": {}
  },
  {
   "cell_type": "code",
   "execution_count": 16,
   "source": [
    "# Expand all layers and merge all the sememe list into one\n",
    "hownet_dict.get_sememes_by_word(word = '苹果', display='list', merge=True, expanded_layer=-1, K=None)"
   ],
   "outputs": [
    {
     "output_type": "execute_result",
     "data": {
      "text/plain": [
       "{PatternValue|样式值,\n",
       " SpeBrand|特定牌子,\n",
       " able|能,\n",
       " bring|携带,\n",
       " communicate|交流,\n",
       " computer|电脑,\n",
       " fruit|水果,\n",
       " reproduce|生殖,\n",
       " tool|用具,\n",
       " tree|树}"
      ]
     },
     "metadata": {},
     "execution_count": 16
    }
   ],
   "metadata": {}
  },
  {
   "cell_type": "code",
   "execution_count": 17,
   "source": [
    "# Expand the top2 layers and merge all the sememe list into one. Note that the first layer is the sense node. \n",
    "hownet_dict.get_sememes_by_word(word = '苹果', display='list', merge=True, expanded_layer=2, K=None)"
   ],
   "outputs": [
    {
     "output_type": "execute_result",
     "data": {
      "text/plain": [
       "{computer|电脑, fruit|水果, tool|用具, tree|树}"
      ]
     },
     "metadata": {},
     "execution_count": 17
    }
   ],
   "metadata": {}
  },
  {
   "cell_type": "markdown",
   "source": [
    "### Get sememes via relations between sememes\n",
    "\n",
    "There are various relations between sememes. The package provides api to retrieve related sememes.\n",
    "You can retrieve the relation between two sememes by the annotation of the sememe."
   ],
   "metadata": {}
  },
  {
   "cell_type": "code",
   "execution_count": 18,
   "source": [
    "# Get the relation between sememes. Please pay attention to the order of the sememes.\n",
    "relations = hownet_dict.get_sememe_relation('FormValue','圆', return_triples=False)\n",
    "print(relations)\n",
    "# You can get the triples in the form of (head_sememe, relation, tail_relation)\n",
    "triples = hownet_dict.get_sememe_relation('FormValue','圆', return_triples=True)\n",
    "print(triples)"
   ],
   "outputs": [
    {
     "output_type": "stream",
     "name": "stdout",
     "text": [
      "['hyponym']\n",
      "[(FormValue|形状值, 'hyponym', round|圆)]\n"
     ]
    }
   ],
   "metadata": {}
  },
  {
   "cell_type": "markdown",
   "source": [
    "If you want sememes that have the exact relation with some sememe, you can do as below. Note that you can also get triples."
   ],
   "metadata": {}
  },
  {
   "cell_type": "code",
   "execution_count": 19,
   "source": [
    "triples = hownet_dict.get_sememe_via_relation('FormValue', 'hyponym',return_triples=True)\n",
    "print(triples)"
   ],
   "outputs": [
    {
     "output_type": "stream",
     "name": "stdout",
     "text": [
      "[(FormValue|形状值, 'hyponym', round|圆), (FormValue|形状值, 'hyponym', formed|成形), (FormValue|形状值, 'hyponym', angular|角), (FormValue|形状值, 'hyponym', square|方), (FormValue|形状值, 'hyponym', netlike|网), (AppearanceValue|外观值, 'hyponym', FormValue|形状值), (FormValue|形状值, 'hyponym', unformed|不成形)]\n"
     ]
    }
   ],
   "metadata": {}
  },
  {
   "cell_type": "markdown",
   "source": [
    "Besides, you can get related sememes directly by the sememe instance."
   ],
   "metadata": {}
  },
  {
   "cell_type": "code",
   "execution_count": 20,
   "source": [
    "print(\"Take {} as example.\".format(sememe1[0]))\n",
    "print(\"The sememes that have the relaiton of hyponym with the sememe are:\")\n",
    "print(sememe1[0].related_sememes_forward['hyponym'])"
   ],
   "outputs": [
    {
     "output_type": "stream",
     "name": "stdout",
     "text": [
      "Take FormValue|形状值 as example.\n",
      "The sememes that have the relaiton of hyponym with the sememe are:\n",
      "[formed|成形, unformed|不成形, netlike|网, square|方, round|圆, angular|角]\n"
     ]
    }
   ],
   "metadata": {}
  },
  {
   "cell_type": "markdown",
   "source": [
    "Moreover, you can get all the sememes that have relation with the exact sememe (ignore the order)."
   ],
   "metadata": {}
  },
  {
   "cell_type": "code",
   "execution_count": 21,
   "source": [
    "print(\"The sememes that have relaiton with the sememe {} are:\".format(sememe1[0]))\n",
    "print(sememe1[0].get_related_sememes())"
   ],
   "outputs": [
    {
     "output_type": "stream",
     "name": "stdout",
     "text": [
      "The sememes that have relaiton with the sememe FormValue|形状值 are:\n",
      "[square|方, AppearanceValue|外观值, angular|角, formed|成形, netlike|网, round|圆, unformed|不成形]\n"
     ]
    }
   ],
   "metadata": {}
  },
  {
   "cell_type": "markdown",
   "source": [
    "## Advanced Feature #1: Word Similarity Calculation via Sememes\n",
    "\n",
    "The following parts are mainly implemented by Jun Yan and integrated by Chenghao Yang. Our implementation is based on the paper:\n",
    "> Jiangming Liu, Jinan Xu, Yujie Zhang. An Approach of Hybrid Hierarchical Structure for Word Similarity Computing by HowNet. In Proceedings of IJCNLP\n",
    "\n",
    "### Extra initializaiton\n",
    "Because there are some files required to be loaded for similarity calculation. The initialization overhead will be larger than before. To begin with, you can initialize the hownet_dict object as the following code :"
   ],
   "metadata": {}
  },
  {
   "cell_type": "code",
   "execution_count": 22,
   "source": [
    "hownet_dict_anvanced = OpenHowNet.HowNetDict(init_sim=True)"
   ],
   "outputs": [
    {
     "output_type": "stream",
     "name": "stdout",
     "text": [
      "Initializing OpenHowNet succeeded!\n",
      "Initializing similarity calculation succeeded!\n"
     ]
    }
   ],
   "metadata": {}
  },
  {
   "cell_type": "markdown",
   "source": [
    "You can also postpone the initialization work of similarity calculation until use. The following code serves as an example."
   ],
   "metadata": {}
  },
  {
   "cell_type": "code",
   "execution_count": 23,
   "source": [
    "hownet_dict.initialize_similarity_calculation()"
   ],
   "outputs": [
    {
     "output_type": "stream",
     "name": "stdout",
     "text": [
      "Initializing similarity calculation succeeded!\n"
     ]
    }
   ],
   "metadata": {}
  },
  {
   "cell_type": "markdown",
   "source": [
    "### Get senses that have the same sememe list\n",
    "You can retrieve the senses that have the same sememe list with the exact sense. Note that the structured information is ignored."
   ],
   "metadata": {}
  },
  {
   "cell_type": "code",
   "execution_count": 24,
   "source": [
    "print(\"Take sense {} as an example. Its sememes contains: \".format(sense_example))\n",
    "print(sense_example.get_sememe_list())\n",
    "print(\"Senses that have the same sememe list contains: \")\n",
    "print(hownet_dict_anvanced.get_sense_synonyms(sense_example))"
   ],
   "outputs": [
    {
     "output_type": "stream",
     "name": "stdout",
     "text": [
      "Take sense No.244401|apple|苹果 as an example. Its sememes contains: \n",
      "{fruit|水果, tree|树, reproduce|生殖}\n",
      "Senses that have the same sememe list contains: \n",
      "[No.110999|pear|山梨, No.111007|hawthorn|山楂, No.111009|haw|山楂树, No.111010|hawthorn|山楂树, No.111268|Chinese hawthorn|山里红, No.122955|Pistacia vera|开心果树, No.122956|pistachio|开心果树, No.122957|pistachio tree|开心果树, No.135467|almond tree|扁桃, No.154699|fig|无花果, No.163131|apricot tree|杏树, No.165009|loquat|枇杷, No.165214|fruit tree|果木, No.165220|fruit tree|果树, No.165347|jujube tree|枣木, No.165348|jujube tree|枣林, No.165349|jujube tree|枣树, No.165351|date palm|枣椰, No.166885|walnut|核桃, No.166889|walnut tree|核桃树, No.167309|peach|桃, No.167325|peach tree|桃树, No.167518|tangerine|桔树, No.167519|tangerine tree|桔树, No.167902|pear|梨, No.167908|pear tree|梨树, No.168961|hazel|榛, No.168963|hazel|榛子, No.169089|areca|槟, No.169090|betel palm|槟, No.169093|areca|槟榔, No.169094|betel palm|槟榔, No.179024|Chinese pear-leaved crabapple|沙果, No.180283|nectarine tree|油桃树, No.185257|Chinese flowering crabapple|海棠, No.201403|Persea Americana|牛油果树, No.201404|avocado|牛油果树, No.201405|avocado tree|牛油果树, No.203310|actinidia chinensis|猕猴桃, No.203311|actinidia deliciosa|猕猴桃, No.203312|chinese gooseberry|猕猴桃, No.203313|kiwi|猕猴桃, No.203314|kiwi vine|猕猴桃, No.238952|cashew|腰果, No.242085|mango|芒果, No.242088|mango tree|芒果树, No.244401|apple|苹果, No.244402|malus pumila|苹果, No.244403|orchard apple tree|苹果, No.244413|apple|苹果树, No.244414|apple tree|苹果树, No.245175|litchee|荔枝, No.245176|litchi|荔枝, No.246242|ananas comosus|菠萝, No.246243|pineapple|菠萝, No.246244|pineapple plant|菠萝, No.247036|grapevine|葡萄藤, No.275449|wild jujube tree|酸枣, No.284481|pistachio|阿月浑子树, No.284482|pistachio tree|阿月浑子树, No.294148|banana|香蕉, No.294150|banana tree|香蕉树]\n"
     ]
    }
   ],
   "metadata": {}
  },
  {
   "cell_type": "markdown",
   "source": [
    "### Get Top-K Nearest Words for the Given Word\n",
    "Given an exact word, the function will return the Top-K nearest words in HowNet.\n",
    "First of all, the HowNetDict will match the senses in HowNet by the word and give the nearest words separately.\n",
    "Note that you must set the language of the words, and the calculation may takes a long time."
   ],
   "metadata": {}
  },
  {
   "cell_type": "code",
   "execution_count": 25,
   "source": [
    "hownet_dict_anvanced.get_nearest_words('苹果', language='zh',K=5)"
   ],
   "outputs": [
    {
     "output_type": "execute_result",
     "data": {
      "text/plain": [
       "{No.244396|apple|苹果: ['IBM', '东芝', '华为', '戴尔', '索尼'],\n",
       " No.244397|apple|苹果: ['丑橘', '乌梅', '五敛子', '凤梨', '刺梨'],\n",
       " No.244398|IPHONE|苹果: ['OPPO', '华为', '苹果', '智能手机', '彩笔'],\n",
       " No.244399|apple|苹果: ['OPPO', '华为', '苹果', '智能手机', '彩笔'],\n",
       " No.244400|iphone|苹果: ['OPPO', '华为', '苹果', '智能手机', '彩笔'],\n",
       " No.244401|apple|苹果: ['山梨', '山楂', '山楂树', '山里红', '开心果树'],\n",
       " No.244402|malus pumila|苹果: ['山梨', '山楂', '山楂树', '山里红', '开心果树'],\n",
       " No.244403|orchard apple tree|苹果: ['山梨', '山楂', '山楂树', '山里红', '开心果树']}"
      ]
     },
     "metadata": {},
     "execution_count": 25
    }
   ],
   "metadata": {}
  },
  {
   "cell_type": "markdown",
   "source": [
    "You can get the similarity score as below:"
   ],
   "metadata": {}
  },
  {
   "cell_type": "code",
   "execution_count": 26,
   "source": [
    "hownet_dict_anvanced.get_nearest_words('苹果', language='zh',K=5,score=True)"
   ],
   "outputs": [
    {
     "output_type": "execute_result",
     "data": {
      "text/plain": [
       "{No.244396|apple|苹果: [('IBM', 1.0),\n",
       "  ('东芝', 1.0),\n",
       "  ('华为', 1.0),\n",
       "  ('戴尔', 1.0),\n",
       "  ('索尼', 1.0)],\n",
       " No.244397|apple|苹果: [('丑橘', 1.0),\n",
       "  ('乌梅', 1.0),\n",
       "  ('五敛子', 1.0),\n",
       "  ('凤梨', 1.0),\n",
       "  ('刺梨', 1.0)],\n",
       " No.244398|IPHONE|苹果: [('OPPO', 1.0),\n",
       "  ('华为', 1.0),\n",
       "  ('苹果', 1.0),\n",
       "  ('智能手机', 0.9428571428571428),\n",
       "  ('彩笔', 0.836074074074074)],\n",
       " No.244399|apple|苹果: [('OPPO', 1.0),\n",
       "  ('华为', 1.0),\n",
       "  ('苹果', 1.0),\n",
       "  ('智能手机', 0.9428571428571428),\n",
       "  ('彩笔', 0.836074074074074)],\n",
       " No.244400|iphone|苹果: [('OPPO', 1.0),\n",
       "  ('华为', 1.0),\n",
       "  ('苹果', 1.0),\n",
       "  ('智能手机', 0.9428571428571428),\n",
       "  ('彩笔', 0.836074074074074)],\n",
       " No.244401|apple|苹果: [('山梨', 1.0),\n",
       "  ('山楂', 1.0),\n",
       "  ('山楂树', 1.0),\n",
       "  ('山里红', 1.0),\n",
       "  ('开心果树', 1.0)],\n",
       " No.244402|malus pumila|苹果: [('山梨', 1.0),\n",
       "  ('山楂', 1.0),\n",
       "  ('山楂树', 1.0),\n",
       "  ('山里红', 1.0),\n",
       "  ('开心果树', 1.0)],\n",
       " No.244403|orchard apple tree|苹果: [('山梨', 1.0),\n",
       "  ('山楂', 1.0),\n",
       "  ('山楂树', 1.0),\n",
       "  ('山里红', 1.0),\n",
       "  ('开心果树', 1.0)]}"
      ]
     },
     "metadata": {},
     "execution_count": 26
    }
   ],
   "metadata": {}
  },
  {
   "cell_type": "markdown",
   "source": [
    "By setting the `merge` to True, you can merge the words list of senses into one and get the Top-K words."
   ],
   "metadata": {}
  },
  {
   "cell_type": "code",
   "execution_count": 27,
   "source": [
    "hownet_dict_anvanced.get_nearest_words('苹果', language='zh',K=5, merge=True)"
   ],
   "outputs": [
    {
     "output_type": "execute_result",
     "data": {
      "text/plain": [
       "['IBM', '东芝', '华为', '戴尔', '索尼']"
      ]
     },
     "metadata": {},
     "execution_count": 27
    }
   ],
   "metadata": {}
  },
  {
   "cell_type": "markdown",
   "source": [
    "Detailed explanation of params will be displayed in our documentation.\n",
    "\n",
    "### Calculate the Similarity for the Given Two Words¶\n",
    "If any of the given words does not exist in HowNet annotations, this function will return -1."
   ],
   "metadata": {}
  },
  {
   "cell_type": "code",
   "execution_count": 28,
   "source": [
    "print('The similarity of 苹果 and 梨 is {}.'.format(hownet_dict_anvanced.calculate_word_similarity('苹果','梨')))"
   ],
   "outputs": [
    {
     "output_type": "stream",
     "name": "stdout",
     "text": [
      "The similarity of 苹果 and 梨 is 1.0.\n"
     ]
    }
   ],
   "metadata": {}
  }
 ],
 "metadata": {
  "orig_nbformat": 4,
  "language_info": {
   "name": "python",
   "version": "3.9.5",
   "mimetype": "text/x-python",
   "codemirror_mode": {
    "name": "ipython",
    "version": 3
   },
   "pygments_lexer": "ipython3",
   "nbconvert_exporter": "python",
   "file_extension": ".py"
  },
  "kernelspec": {
   "name": "python3",
   "display_name": "Python 3.9.5 64-bit"
  },
  "interpreter": {
   "hash": "aee8b7b246df8f9039afb4144a1f6fd8d2ca17a180786b69acc140d282b71a49"
  }
 },
 "nbformat": 4,
 "nbformat_minor": 2
}