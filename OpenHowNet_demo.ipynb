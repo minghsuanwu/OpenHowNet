{
 "cells": [
  {
   "cell_type": "markdown",
   "source": [
    "# A simple demo for the OpenHowNet Python Package\n",
    "\n",
    "To begin with, make sure you have installed **Python 3.X**. \n",
    "\n",
    "Also, the [**anytree**](https://pypi.org/project/anytree/) is required to be installed, which is the only dependency for OpenHowNet.\n",
    "\n",
    "Next, you should follow the [instruction](https://github.com/thunlp/OpenHowNet#installation) to install **OpenHowNet** API. \n",
    "\n",
    "After that, you can import the module:"
   ],
   "metadata": {}
  },
  {
   "cell_type": "code",
   "execution_count": 1,
   "source": [
    "# Import the OpenHowNet module\n",
    "import OpenHowNet"
   ],
   "outputs": [],
   "metadata": {}
  },
  {
   "cell_type": "markdown",
   "source": [
    "Then we can create a **HowNetDict** object:"
   ],
   "metadata": {}
  },
  {
   "cell_type": "code",
   "execution_count": 2,
   "source": [
    "# Initialize HowNetDict, you can initialize the similarity calculation module by setting the init_sim to True.\n",
    "hownet_dict = OpenHowNet.HowNetDict(init_sim=False)"
   ],
   "outputs": [
    {
     "output_type": "stream",
     "name": "stdout",
     "text": [
      "Initializing OpenHowNet succeeded!\n"
     ]
    }
   ],
   "metadata": {}
  },
  {
   "cell_type": "markdown",
   "source": [
    "Now the preparation work is all done. Let's explore some important features of HowNetDict."
   ],
   "metadata": {}
  },
  {
   "cell_type": "markdown",
   "source": [
    "## Basic Usage of OpenHowNet\n",
    "\n",
    "### Get word annotations in HowNet\n",
    "\n",
    "By default, the api will search the target word in both English and Chinese annotations in HowNet, which will cause significant search overhead. Note that if the target word does not exist in HowNet annotation, this api will simply return an empty list."
   ],
   "metadata": {}
  },
  {
   "cell_type": "code",
   "execution_count": 3,
   "source": [
    "# Get the senses list annotated with \"苹果\".\n",
    "result_list = hownet_dict.get_sense(\"苹果\")\n",
    "print(\"The number of retrievals: \", len(result_list))\n",
    "print(\"An example of retrievals: \", result_list)"
   ],
   "outputs": [
    {
     "output_type": "stream",
     "name": "stdout",
     "text": [
      "The number of retrievals:  8\n",
      "An example of retrievals:  [No.244396|apple|苹果, No.244397|apple|苹果, No.244398|IPHONE|苹果, No.244399|apple|苹果, No.244400|iphone|苹果, No.244401|apple|苹果, No.244402|malus pumila|苹果, No.244403|orchard apple tree|苹果]\n"
     ]
    }
   ],
   "metadata": {}
  },
  {
   "cell_type": "markdown",
   "source": [
    "In OpenHowNet package, the detailed information of senses and sememes in HowNet are wrapped into classes."
   ],
   "metadata": {}
  },
  {
   "cell_type": "code",
   "execution_count": 4,
   "source": [
    "# Get the detailed information of the sense.\n",
    "sense_example = result_list[0]\n",
    "print(\"Sense example:\", sense_example)\n",
    "print(\"Sense id: \",sense_example.No)\n",
    "print(\"English word in the sense: \", sense_example.en_word)\n",
    "print(\"Chinese word in the sense: \", sense_example.zh_word)\n",
    "print(\"HowNet annotation of the sense: \", sense_example.Def)\n",
    "print(\"Sememe list of the sense: \", sense_example.get_sememe_list())"
   ],
   "outputs": [
    {
     "output_type": "stream",
     "name": "stdout",
     "text": [
      "Sense example: No.244396|apple|苹果\n",
      "Sense id:  000000244396\n",
      "English word in the sense:  apple\n",
      "Chinese word in the sense:  苹果\n",
      "HowNet annotation of the sense:  {computer|电脑:modifier={PatternValue|样式值:CoEvent={able|能:scope={bring|携带:patient={$}}}}{SpeBrand|特定牌子}}\n",
      "Sememe list of the sense:  [computer|电脑, bring|携带, SpeBrand|特定牌子, PatternValue|样式值, able|能]\n"
     ]
    }
   ],
   "metadata": {}
  },
  {
   "cell_type": "code",
   "execution_count": 5,
   "source": [
    "# Get the detailed information of the sememe.\n",
    "sememe_example = sense_example.get_sememe_list().pop()\n",
    "print(\"Sememe example: \", sememe_example)\n",
    "print(\"The English annotation of the sememe: \", sememe_example.en)\n",
    "print(\"The Chinese annotation of the sememe: \", sememe_example.zh)\n",
    "print(\"The frequency of occurrence of the sememe in HowNet: \", sememe_example.freq)"
   ],
   "outputs": [
    {
     "output_type": "stream",
     "name": "stdout",
     "text": [
      "Sememe example:  able|能\n",
      "The English annotation of the sememe:  able\n",
      "The Chinese annotation of the sememe:  能\n",
      "The frequency of occurrence of the sememe in HowNet:  2861\n"
     ]
    }
   ],
   "metadata": {}
  },
  {
   "cell_type": "markdown",
   "source": [
    "You can visualize the retrieved HowNet structured annotations (\"sememe tree\") of sense as follow :"
   ],
   "metadata": {}
  },
  {
   "cell_type": "code",
   "execution_count": 6,
   "source": [
    "sense_example.visualize_sememe_tree()"
   ],
   "outputs": [
    {
     "output_type": "stream",
     "name": "stdout",
     "text": [
      "[sense]No.244396|apple|苹果\n",
      "└── [None]computer|电脑\n",
      "    ├── [modifier]PatternValue|样式值\n",
      "    │   └── [CoEvent]able|能\n",
      "    │       └── [scope]bring|携带\n",
      "    │           └── [patient]$\n",
      "    └── [patient]SpeBrand|特定牌子\n",
      "\n"
     ]
    }
   ],
   "metadata": {}
  },
  {
   "cell_type": "markdown",
   "source": [
    "Besides, you can get the Sememe instance list by the English annotation or Chinese annotation. Similarily, you can set the language of the input or set the `strict` to `False` to fuzzy match the sememe."
   ],
   "metadata": {}
  },
  {
   "cell_type": "code",
   "execution_count": 7,
   "source": [
    "sememe1 = hownet_dict.get_sememe('FormValue', language='en')\n",
    "sememe2 = hownet_dict.get_sememe('圆', language='zh')\n",
    "print(\"Retrieved sememes: \",sememe1, sememe2)\n",
    "\n",
    "sememe3 = hownet_dict.get_sememe('值', strict=False)\n",
    "print(\"Fuzzy match the sememes (retrieved {} results): \".format(len(sememe3)), sememe3[:5])\n",
    "\n",
    "sememe_all = hownet_dict.get_all_sememes()\n",
    "print(\"There are {} sememes in HowNet in total.\".format(len(sememe_all)))"
   ],
   "outputs": [
    {
     "output_type": "stream",
     "name": "stdout",
     "text": [
      "Retrieved sememes:  [FormValue|形状值] [round|圆]\n",
      "Fuzzy match the sememes (retrieved 249 results):  [PropertyValue|特性值, FinenessValue|粗细值, AgeValue|年龄值, DistanceValue|距离值, PerformanceValue|性能值]\n",
      "There are 2540 sememes in HowNet in total.\n"
     ]
    }
   ],
   "metadata": {}
  },
  {
   "cell_type": "markdown",
   "source": [
    "To boost the efficiency of the search process, you can specify the language of the target word as the following."
   ],
   "metadata": {}
  },
  {
   "cell_type": "code",
   "execution_count": 8,
   "source": [
    "print(\"The number of mixed search results:\",len(hownet_dict.get_sense(\"X\")))\n",
    "print(\"The number of Chinese results:\",len(hownet_dict.get_sense(\"X\",language=\"zh\")))\n",
    "print(\"The number of English results:\",len(hownet_dict.get_sense(\"X\",language=\"en\")))"
   ],
   "outputs": [
    {
     "output_type": "stream",
     "name": "stdout",
     "text": [
      "The number of mixed search results: 3\n",
      "The number of Chinese results: 3\n",
      "The number of English results: 2\n"
     ]
    }
   ],
   "metadata": {}
  },
  {
   "cell_type": "markdown",
   "source": [
    "You can limit the POS of the target word by setting the `pos`.  Besides, you can set the `strict` to false to make a fuzzy match."
   ],
   "metadata": {}
  },
  {
   "cell_type": "code",
   "execution_count": 9,
   "source": [
    "\n",
    "res = hownet_dict.get_sense(\"苹果\", strict=False)\n",
    "print(\"Fuzzy match: (The number of retrievals: {})\".format(len(res)))\n",
    "print(\"Retrivals: {}\\n\".format(res))\n",
    "res = hownet_dict.get_sense(\"苹果\",pos='adj', strict=False)\n",
    "print(\"Fuzzy match and limit the POS to adj: (The number of retrievals: {})\".format(len(res)))\n",
    "print(\"Retrivals: {}\".format(res))\n"
   ],
   "outputs": [
    {
     "output_type": "stream",
     "name": "stdout",
     "text": [
      "Fuzzy match: (The number of retrievals: 32)\n",
      "Retrivals: [No.244407|curry chicken with apple|苹果咖喱鸡, No.244408|apple orchard|苹果园, No.244409||苹果园西锦江之星, No.244413|apple|苹果树, No.244414|apple tree|苹果树, No.244415|apple juice|苹果汁, No.63141||北京双井苹果酒店, No.244416|apple pie|苹果派, No.244419|apple and fish soup|苹果煲生鱼汤, No.244420|MAC|苹果电脑, No.244421|mac|苹果电脑, No.63229||北京四季苹果酒店, No.244396|apple|苹果, No.244423|apple green|苹果绿, No.244424|apple gateau|苹果蛋糕, No.244397|apple|苹果, No.244425|cider|苹果酒, No.244398|IPHONE|苹果, No.244426|cyder|苹果酒, No.244399|apple|苹果, No.199378|baked apples|焗苹果, No.244427|hard cider|苹果酒, No.244400|iphone|苹果, No.244428|apple jam|苹果酱, No.244401|apple|苹果, No.244429|apple pie|苹果馅饼, No.244402|malus pumila|苹果, No.180902|French apple tart|法式苹果挞, No.244403|orchard apple tree|苹果, No.244404|Apple|苹果公司, No.244405|apple jelly|苹果冻, No.244406|apple-scented|苹果味]\n",
      "\n",
      "Fuzzy match and limit the POS to adj: (The number of retrievals: 2)\n",
      "Retrivals: [No.244423|apple green|苹果绿, No.244406|apple-scented|苹果味]\n"
     ]
    }
   ],
   "metadata": {}
  },
  {
   "cell_type": "markdown",
   "source": [
    "You can get all senses by using the follow API."
   ],
   "metadata": {}
  },
  {
   "cell_type": "code",
   "execution_count": 10,
   "source": [
    "all_senses = hownet_dict.get_all_senses()\n",
    "print(\"The number of all senses: {}\".format(len(all_senses)))"
   ],
   "outputs": [
    {
     "output_type": "stream",
     "name": "stdout",
     "text": [
      "The number of all senses: 237974\n"
     ]
    }
   ],
   "metadata": {}
  },
  {
   "cell_type": "markdown",
   "source": [
    "Besides, you can also get all the English or Chinese words in HowNet annotations."
   ],
   "metadata": {}
  },
  {
   "cell_type": "code",
   "execution_count": 11,
   "source": [
    "zh_word_list = hownet_dict.get_zh_words()\n",
    "en_word_list = hownet_dict.get_en_words()\n",
    "print(\"Chinese words in HowNet: \",zh_word_list[:10])\n",
    "print(\"English words in HowNet: \",en_word_list[:10])"
   ],
   "outputs": [
    {
     "output_type": "stream",
     "name": "stdout",
     "text": [
      "Chinese words in HowNet:  ['', '下乘', '中国人民解放军', '分离器', '龙文区', '独木不成林', '牙痛', '镇静自若', '腹腔镜剖腹手术', '茫然不解']\n",
      "English words in HowNet:  ['', 'lawn mower', 'hanging bed', 'Dresden bank', 'snares of love', 'MRA', 'whipsaw', 'ascend to heaven and become immortal', 'trade contacts', 'Android']\n"
     ]
    }
   ],
   "metadata": {}
  },
  {
   "cell_type": "markdown",
   "source": [
    "### Get Sememe Trees for certain word in HowNet¶\n",
    "\n",
    "You can get the sememes by certain word in a variety of forms of presentation. Detailed explanation of params will be displayed in our documentation.\n",
    "First, you can retrieve all the senses annotated with the certain word and their sememes."
   ],
   "metadata": {}
  },
  {
   "cell_type": "code",
   "execution_count": 12,
   "source": [
    "# Get the respective sememe list of the senses annotated with the word.\n",
    "# The word can be English or Chinese or *\n",
    "hownet_dict.get_sememes_by_word(word = '苹果', display='list', merge=False, expanded_layer=-1, K=None)"
   ],
   "outputs": [
    {
     "output_type": "execute_result",
     "data": {
      "text/plain": [
       "[{'sense': No.244396|apple|苹果,\n",
       "  'sememes': [computer|电脑, bring|携带, SpeBrand|特定牌子, PatternValue|样式值, able|能]},\n",
       " {'sense': No.244397|apple|苹果, 'sememes': [fruit|水果]},\n",
       " {'sense': No.244398|IPHONE|苹果,\n",
       "  'sememes': [tool|用具,\n",
       "   bring|携带,\n",
       "   SpeBrand|特定牌子,\n",
       "   PatternValue|样式值,\n",
       "   communicate|交流,\n",
       "   able|能]},\n",
       " {'sense': No.244399|apple|苹果,\n",
       "  'sememes': [tool|用具,\n",
       "   bring|携带,\n",
       "   SpeBrand|特定牌子,\n",
       "   PatternValue|样式值,\n",
       "   communicate|交流,\n",
       "   able|能]},\n",
       " {'sense': No.244400|iphone|苹果,\n",
       "  'sememes': [tool|用具,\n",
       "   bring|携带,\n",
       "   SpeBrand|特定牌子,\n",
       "   PatternValue|样式值,\n",
       "   communicate|交流,\n",
       "   able|能]},\n",
       " {'sense': No.244401|apple|苹果, 'sememes': [reproduce|生殖, fruit|水果, tree|树]},\n",
       " {'sense': No.244402|malus pumila|苹果,\n",
       "  'sememes': [reproduce|生殖, fruit|水果, tree|树]},\n",
       " {'sense': No.244403|orchard apple tree|苹果,\n",
       "  'sememes': [reproduce|生殖, fruit|水果, tree|树]}]"
      ]
     },
     "metadata": {},
     "execution_count": 12
    }
   ],
   "metadata": {}
  },
  {
   "cell_type": "markdown",
   "source": [
    "The `display` can be set to \"tree\"/\"dict\"/\"list\"/\"visual\", and the function will return in different forms.\n",
    "1. When set to \"list\", the sememes will be returned in the form of list as shown above.\n",
    "2. When set to \"dict\", the function will return the sememe tree in the form of dict as shown below."
   ],
   "metadata": {}
  },
  {
   "cell_type": "code",
   "execution_count": 13,
   "source": [
    "hownet_dict.get_sememes_by_word(word = '苹果', display='dict', merge=False, expanded_layer=-1, K=None)[0]"
   ],
   "outputs": [
    {
     "output_type": "execute_result",
     "data": {
      "text/plain": [
       "{'sense': No.244396|apple|苹果,\n",
       " 'sememes': {'role': 'sense',\n",
       "  'name': No.244396|apple|苹果,\n",
       "  'children': [{'role': 'None',\n",
       "    'name': computer|电脑,\n",
       "    'children': [{'role': 'modifier',\n",
       "      'name': PatternValue|样式值,\n",
       "      'children': [{'role': 'CoEvent',\n",
       "        'name': able|能,\n",
       "        'children': [{'role': 'scope',\n",
       "          'name': bring|携带,\n",
       "          'children': [{'role': 'patient', 'name': '$'}]}]}]},\n",
       "     {'role': 'patient', 'name': SpeBrand|特定牌子}]}]}}"
      ]
     },
     "metadata": {},
     "execution_count": 13
    }
   ],
   "metadata": {}
  },
  {
   "cell_type": "markdown",
   "source": [
    "3. When set to \"tree\", the function will return the senses and the root node of their respective sememe tree. "
   ],
   "metadata": {}
  },
  {
   "cell_type": "code",
   "execution_count": 14,
   "source": [
    "t = hownet_dict.get_sememes_by_word(word = '苹果', display='tree', merge=False, expanded_layer=-1, K=None)[0]\n",
    "print(t)\n",
    "print(\"The type of the root node is:\", type(t['sememes']))"
   ],
   "outputs": [
    {
     "output_type": "stream",
     "name": "stdout",
     "text": [
      "{'sense': No.244396|apple|苹果, 'sememes': Node('/No.244396|apple|苹果', role='sense')}\n",
      "The type of the root node is: <class 'anytree.node.node.Node'>\n"
     ]
    }
   ],
   "metadata": {}
  },
  {
   "cell_type": "markdown",
   "source": [
    "4. When set to \"visual\", the function will visualize the Top-K sememe trees. At this point, `K` can be set to control the num of the visualized sememe trees. "
   ],
   "metadata": {}
  },
  {
   "cell_type": "code",
   "execution_count": 15,
   "source": [
    "hownet_dict.get_sememes_by_word(word = '苹果', display='visual', merge=False, expanded_layer=-1, K=2)"
   ],
   "outputs": [
    {
     "output_type": "stream",
     "name": "stdout",
     "text": [
      "Find 8 result(s)\n",
      "Display #0 sememe tree\n",
      "[sense]No.244396|apple|苹果\n",
      "└── [None]computer|电脑\n",
      "    ├── [modifier]PatternValue|样式值\n",
      "    │   └── [CoEvent]able|能\n",
      "    │       └── [scope]bring|携带\n",
      "    │           └── [patient]$\n",
      "    └── [patient]SpeBrand|特定牌子\n",
      "\n",
      "Display #1 sememe tree\n",
      "[sense]No.244397|apple|苹果\n",
      "└── [None]fruit|水果\n",
      "\n"
     ]
    }
   ],
   "metadata": {}
  },
  {
   "cell_type": "markdown",
   "source": [
    "5. `merge` and `expanded_layer` only work when `display==\"list\"`. When `merge==True`, the sememe lists of all the senses retrieved by the word will be merged into one. `expanded_layer` is set to control the expanded layer num of the sememe tree and by default it will be set to -1(expanded all layers)."
   ],
   "metadata": {}
  },
  {
   "cell_type": "code",
   "execution_count": 16,
   "source": [
    "# Expand all layers and merge all the sememe list into one\n",
    "hownet_dict.get_sememes_by_word(word = '苹果', display='list', merge=True, expanded_layer=-1, K=None)"
   ],
   "outputs": [
    {
     "output_type": "execute_result",
     "data": {
      "text/plain": [
       "[tool|用具,\n",
       " reproduce|生殖,\n",
       " tree|树,\n",
       " bring|携带,\n",
       " PatternValue|样式值,\n",
       " fruit|水果,\n",
       " computer|电脑,\n",
       " SpeBrand|特定牌子,\n",
       " communicate|交流,\n",
       " able|能]"
      ]
     },
     "metadata": {},
     "execution_count": 16
    }
   ],
   "metadata": {}
  },
  {
   "cell_type": "code",
   "execution_count": 17,
   "source": [
    "# Expand the top2 layers and merge all the sememe list into one. Note that the first layer is the sense node. \n",
    "hownet_dict.get_sememes_by_word(word = '苹果', display='list', merge=True, expanded_layer=2, K=None)"
   ],
   "outputs": [
    {
     "output_type": "execute_result",
     "data": {
      "text/plain": [
       "[tool|用具, computer|电脑, tree|树, fruit|水果]"
      ]
     },
     "metadata": {},
     "execution_count": 17
    }
   ],
   "metadata": {}
  },
  {
   "cell_type": "markdown",
   "source": [
    "### Get sememes via relations between sememes\n",
    "\n",
    "There are various relations between sememes as follows. The package provides api to retrieve related sememes.\n",
    "You can retrieve the relation between two sememes by the annotation of the sememe."
   ],
   "metadata": {}
  },
  {
   "cell_type": "code",
   "execution_count": 18,
   "source": [
    "all_sememe_relations = hownet_dict.get_all_sememe_relations()\n",
    "print(all_sememe_relations)\n",
    "# Get the relation between sememes. Please pay attention to the order of the sememes.\n",
    "relations = hownet_dict.get_sememe_relation('FormValue','圆', return_triples=False)\n",
    "print(relations)\n",
    "# You can get the triples in the form of (head_sememe, relation, tail_relation)\n",
    "triples = hownet_dict.get_sememe_relation('FormValue','圆', return_triples=True)\n",
    "print(triples)"
   ],
   "outputs": [
    {
     "output_type": "stream",
     "name": "stdout",
     "text": [
      "['hypernym', 'hyponym', 'antonym', 'converse']\n",
      "['hyponym']\n",
      "[(FormValue|形状值, 'hyponym', round|圆)]\n"
     ]
    }
   ],
   "metadata": {}
  },
  {
   "cell_type": "markdown",
   "source": [
    "If you want sememes that have the exact relation with some sememe, you can do as below. Note that you can also get triples."
   ],
   "metadata": {}
  },
  {
   "cell_type": "code",
   "execution_count": 19,
   "source": [
    "triples = hownet_dict.get_related_sememes('FormValue', relation='hyponym',return_triples=True)\n",
    "print(triples)"
   ],
   "outputs": [
    {
     "output_type": "stream",
     "name": "stdout",
     "text": [
      "[(FormValue|形状值, 'hyponym', unformed|不成形), (FormValue|形状值, 'hyponym', round|圆), (FormValue|形状值, 'hyponym', square|方), (FormValue|形状值, 'hyponym', formed|成形), (FormValue|形状值, 'hyponym', angular|角), (FormValue|形状值, 'hyponym', netlike|网)]\n"
     ]
    }
   ],
   "metadata": {}
  },
  {
   "cell_type": "markdown",
   "source": [
    "Besides, you can get related sememes directly by the sememe instance."
   ],
   "metadata": {}
  },
  {
   "cell_type": "code",
   "execution_count": 20,
   "source": [
    "print(\"Take {} as example.\".format(sememe1[0]))\n",
    "print(\"The sememes that have the relaiton of hyponym with the sememe are:\")\n",
    "print(sememe1[0].get_related_sememes(relation='hyponym'))"
   ],
   "outputs": [
    {
     "output_type": "stream",
     "name": "stdout",
     "text": [
      "Take FormValue|形状值 as example.\n",
      "The sememes that have the relaiton of hyponym with the sememe are:\n",
      "[unformed|不成形, angular|角, square|方, round|圆, formed|成形, netlike|网]\n"
     ]
    }
   ],
   "metadata": {}
  },
  {
   "cell_type": "markdown",
   "source": [
    "Moreover, you can get all the sememes that have relation with the exact sememe (ignore the order)."
   ],
   "metadata": {}
  },
  {
   "cell_type": "code",
   "execution_count": 21,
   "source": [
    "print(\"The sememes that have relaiton with the sememe {} are:\".format(sememe1[0]))\n",
    "print(sememe1[0].get_related_sememes())"
   ],
   "outputs": [
    {
     "output_type": "stream",
     "name": "stdout",
     "text": [
      "The sememes that have relaiton with the sememe FormValue|形状值 are:\n",
      "[unformed|不成形, angular|角, round|圆, square|方, AppearanceValue|外观值, formed|成形, netlike|网]\n"
     ]
    }
   ],
   "metadata": {}
  },
  {
   "cell_type": "markdown",
   "source": [
    "## Advanced Feature #1: Word Similarity Calculation via Sememes\n",
    "\n",
    "The following parts are mainly implemented by Jun Yan and integrated by Chenghao Yang. Our implementation is based on the paper:\n",
    "> Jiangming Liu, Jinan Xu, Yujie Zhang. An Approach of Hybrid Hierarchical Structure for Word Similarity Computing by HowNet. In Proceedings of IJCNLP\n",
    "\n",
    "### Extra initializaiton\n",
    "Because there are some files required to be loaded for similarity calculation. The initialization overhead will be larger than before. To begin with, you can initialize the hownet_dict object as the following code :"
   ],
   "metadata": {}
  },
  {
   "cell_type": "code",
   "execution_count": 22,
   "source": [
    "hownet_dict_anvanced = OpenHowNet.HowNetDict(init_sim=True)"
   ],
   "outputs": [
    {
     "output_type": "stream",
     "name": "stdout",
     "text": [
      "Initializing OpenHowNet succeeded!\n",
      "Initializing similarity calculation succeeded!\n"
     ]
    }
   ],
   "metadata": {}
  },
  {
   "cell_type": "markdown",
   "source": [
    "You can also postpone the initialization work of similarity calculation until use. The following code serves as an example."
   ],
   "metadata": {}
  },
  {
   "cell_type": "code",
   "execution_count": 23,
   "source": [
    "hownet_dict.initialize_similarity_calculation()"
   ],
   "outputs": [
    {
     "output_type": "stream",
     "name": "stdout",
     "text": [
      "Initializing similarity calculation succeeded!\n"
     ]
    }
   ],
   "metadata": {}
  },
  {
   "cell_type": "markdown",
   "source": [
    "### Get senses that have the same sememe list\n",
    "You can retrieve the senses that have the same sememe list with the exact sense. Note that the structured information is ignored."
   ],
   "metadata": {}
  },
  {
   "cell_type": "code",
   "execution_count": 24,
   "source": [
    "print(\"Take sense {} as an example. Its sememes contains: \".format(sense_example))\n",
    "print(sense_example.get_sememe_list())\n",
    "print(\"Senses that have the same sememe list contains: \")\n",
    "print(hownet_dict_anvanced.get_sense_synonyms(sense_example)[:10])"
   ],
   "outputs": [
    {
     "output_type": "stream",
     "name": "stdout",
     "text": [
      "Take sense No.244396|apple|苹果 as an example. Its sememes contains: \n",
      "[computer|电脑, bring|携带, SpeBrand|特定牌子, PatternValue|样式值, able|能]\n",
      "Senses that have the same sememe list contains: \n",
      "[No.16651|IBM|IBM, No.28840|Toshiba|东芝, No.65913|HUAWEI|华为, No.135177|Dell|戴尔, No.226574|Sony|索尼, No.235535|Lenovo|联想, No.244396|apple|苹果, No.244420|MAC|苹果电脑, No.244421|mac|苹果电脑]\n"
     ]
    }
   ],
   "metadata": {}
  },
  {
   "cell_type": "markdown",
   "source": [
    "### Get Top-K Nearest Words for the Given Word\n",
    "Given an exact word, the function will return the Top-K nearest words in HowNet.\n",
    "First of all, the HowNetDict will match the senses in HowNet by the word and give the nearest words separately.\n",
    "Note that you must set the language of the words, and the calculation may takes a long time."
   ],
   "metadata": {}
  },
  {
   "cell_type": "code",
   "execution_count": 25,
   "source": [
    "hownet_dict_anvanced.get_nearest_words('苹果', language='zh',K=5)"
   ],
   "outputs": [
    {
     "output_type": "execute_result",
     "data": {
      "text/plain": [
       "{No.244396|apple|苹果: ['IBM', '东芝', '华为', '戴尔', '索尼'],\n",
       " No.244397|apple|苹果: ['丑橘', '乌梅', '五敛子', '凤梨', '刺梨'],\n",
       " No.244398|IPHONE|苹果: ['OPPO', '华为', '苹果', '智能手机', '彩笔'],\n",
       " No.244399|apple|苹果: ['OPPO', '华为', '苹果', '智能手机', '彩笔'],\n",
       " No.244400|iphone|苹果: ['OPPO', '华为', '苹果', '智能手机', '彩笔'],\n",
       " No.244401|apple|苹果: ['山梨', '山楂', '山楂树', '山里红', '开心果树'],\n",
       " No.244402|malus pumila|苹果: ['山梨', '山楂', '山楂树', '山里红', '开心果树'],\n",
       " No.244403|orchard apple tree|苹果: ['山梨', '山楂', '山楂树', '山里红', '开心果树']}"
      ]
     },
     "metadata": {},
     "execution_count": 25
    }
   ],
   "metadata": {}
  },
  {
   "cell_type": "markdown",
   "source": [
    "You can get the similarity score as below:"
   ],
   "metadata": {}
  },
  {
   "cell_type": "code",
   "execution_count": 26,
   "source": [
    "hownet_dict_anvanced.get_nearest_words('苹果', language='zh',K=5,score=True)"
   ],
   "outputs": [
    {
     "output_type": "execute_result",
     "data": {
      "text/plain": [
       "{No.244396|apple|苹果: [('IBM', 1.0),\n",
       "  ('东芝', 1.0),\n",
       "  ('华为', 1.0),\n",
       "  ('戴尔', 1.0),\n",
       "  ('索尼', 1.0)],\n",
       " No.244397|apple|苹果: [('丑橘', 1.0),\n",
       "  ('乌梅', 1.0),\n",
       "  ('五敛子', 1.0),\n",
       "  ('凤梨', 1.0),\n",
       "  ('刺梨', 1.0)],\n",
       " No.244398|IPHONE|苹果: [('OPPO', 1.0),\n",
       "  ('华为', 1.0),\n",
       "  ('苹果', 1.0),\n",
       "  ('智能手机', 0.9428571428571428),\n",
       "  ('彩笔', 0.836074074074074)],\n",
       " No.244399|apple|苹果: [('OPPO', 1.0),\n",
       "  ('华为', 1.0),\n",
       "  ('苹果', 1.0),\n",
       "  ('智能手机', 0.9428571428571428),\n",
       "  ('彩笔', 0.836074074074074)],\n",
       " No.244400|iphone|苹果: [('OPPO', 1.0),\n",
       "  ('华为', 1.0),\n",
       "  ('苹果', 1.0),\n",
       "  ('智能手机', 0.9428571428571428),\n",
       "  ('彩笔', 0.836074074074074)],\n",
       " No.244401|apple|苹果: [('山梨', 1.0),\n",
       "  ('山楂', 1.0),\n",
       "  ('山楂树', 1.0),\n",
       "  ('山里红', 1.0),\n",
       "  ('开心果树', 1.0)],\n",
       " No.244402|malus pumila|苹果: [('山梨', 1.0),\n",
       "  ('山楂', 1.0),\n",
       "  ('山楂树', 1.0),\n",
       "  ('山里红', 1.0),\n",
       "  ('开心果树', 1.0)],\n",
       " No.244403|orchard apple tree|苹果: [('山梨', 1.0),\n",
       "  ('山楂', 1.0),\n",
       "  ('山楂树', 1.0),\n",
       "  ('山里红', 1.0),\n",
       "  ('开心果树', 1.0)]}"
      ]
     },
     "metadata": {},
     "execution_count": 26
    }
   ],
   "metadata": {}
  },
  {
   "cell_type": "markdown",
   "source": [
    "By setting the `merge` to True, you can merge the words list of senses into one and get the Top-K words."
   ],
   "metadata": {}
  },
  {
   "cell_type": "code",
   "execution_count": 27,
   "source": [
    "hownet_dict_anvanced.get_nearest_words('苹果', language='zh',K=5, merge=True)"
   ],
   "outputs": [
    {
     "output_type": "execute_result",
     "data": {
      "text/plain": [
       "['IBM', '东芝', '华为', '戴尔', '索尼']"
      ]
     },
     "metadata": {},
     "execution_count": 27
    }
   ],
   "metadata": {}
  },
  {
   "cell_type": "markdown",
   "source": [
    "Detailed explanation of params will be displayed in our documentation.\n",
    "\n",
    "### Calculate the Similarity for the Given Two Words¶\n",
    "If any of the given words does not exist in HowNet annotations, this function will return -1."
   ],
   "metadata": {}
  },
  {
   "cell_type": "code",
   "execution_count": 28,
   "source": [
    "print('The similarity of 苹果 and 梨 is {}.'.format(hownet_dict_anvanced.calculate_word_similarity('苹果','梨')))"
   ],
   "outputs": [
    {
     "output_type": "stream",
     "name": "stdout",
     "text": [
      "The similarity of 苹果 and 梨 is 1.0.\n"
     ]
    }
   ],
   "metadata": {}
  },
  {
   "cell_type": "markdown",
   "source": [
    "## Advanced Feature #2: BabelNet Synset Search\n",
    "\n",
    "### Extra initializaiton\n",
    "Because there are more files required to be loaded for BabelNet dict. The initialization overhead will be larger than before. You can initialize the hownet_dict object as the following code :"
   ],
   "metadata": {}
  },
  {
   "cell_type": "code",
   "execution_count": 29,
   "source": [
    "hownet_dict_anvanced = OpenHowNet.HowNetDict(init_babel=True)"
   ],
   "outputs": [
    {
     "output_type": "stream",
     "name": "stdout",
     "text": [
      "Initializing OpenHowNet succeeded!\n",
      "Initializing BabelNet Synset Dict succeeded!\n"
     ]
    }
   ],
   "metadata": {}
  },
  {
   "cell_type": "markdown",
   "source": [
    "Or you can use the following API to initialize the BabelNet dict."
   ],
   "metadata": {}
  },
  {
   "cell_type": "code",
   "execution_count": 30,
   "source": [
    "hownet_dict.initialize_babelnet_dict()"
   ],
   "outputs": [
    {
     "output_type": "stream",
     "name": "stdout",
     "text": [
      "Initializing BabelNet Synset Dict succeeded!\n"
     ]
    }
   ],
   "metadata": {}
  },
  {
   "cell_type": "markdown",
   "source": [
    "You can retrieve a synset instance and get the abundant information in it using the follow APIs."
   ],
   "metadata": {}
  },
  {
   "cell_type": "code",
   "execution_count": 31,
   "source": [
    "syn_list = hownet_dict_anvanced.get_synset('黄色')\n",
    "print(\"{} results are retrieved and take the first one as an example\".format(len(syn_list)))\n",
    "syn_example = syn_list[0]\n",
    "print(\"Synset: {}\".format(syn_example))\n",
    "print(\"English synonyms: {}\".format(syn_example.en_synonyms))\n",
    "print(\"Chinese synonyms: {}\".format(syn_example.zh_synonyms))\n",
    "print(\"English glosses: {}\".format(syn_example.en_glosses))\n",
    "print(\"Chinese glosses: {}\".format(syn_example.zh_glosses))"
   ],
   "outputs": [
    {
     "output_type": "stream",
     "name": "stdout",
     "text": [
      "3 results are retrieved and take the first one as an example\n",
      "Synset: bn:00081866n|yellow|黄色\n",
      "English synonyms: ['yellow', 'yellowness', 'yellow_color', 'ffff00', 'color_yellow', 'rgb', 'dark_yellow', 'symbolism_of_yellow', 'yelow', 'yelloww', 'yellower', 'yellow_colour', '(255,_255,_0)', 'yellowy', 'royal_yellow', 'colour_yellow', 'y', 'yellowest']\n",
      "Chinese synonyms: ['黄色', '黄', 'yellow', '黃色']\n",
      "English glosses: ['Yellow color or pigment; the chromatic color resembling the hue of sunflowers or ripe lemons', 'Yellow is the color between orange and green on the spectrum of visible light.', 'In the CMYK color model', 'Color', 'Color evoked by light that stimulates both the long and medium-wavelength cone cells of the retina about equally, but does not significantly stimulate the short-wavelength cone cells.', 'The colour of gold, butter, or a lemon; the colour obtained by mixing green and red light, or by subtracting blue from white light.', 'Colour.']\n",
      "Chinese glosses: ['黃色是由波長介於565至590奈米的光線所形成的顔色，用色彩的三原色紅、綠色光混合可產生黃光。', '例如香蕉的颜色']\n"
     ]
    }
   ],
   "metadata": {}
  },
  {
   "cell_type": "markdown",
   "source": [
    "You can also get all the synsets and relations between synsets:"
   ],
   "metadata": {}
  },
  {
   "cell_type": "code",
   "execution_count": 32,
   "source": [
    "all_synsets = hownet_dict_anvanced.get_all_babel_synsets()\n",
    "all_synset_relation = hownet_dict_anvanced.get_all_synset_relations()\n",
    "print(\"There are {} synsets and {} relations\".format(len(all_synsets),len(all_synset_relation)))"
   ],
   "outputs": [
    {
     "output_type": "stream",
     "name": "stdout",
     "text": [
      "There are 15755 synsets and 403 relations\n"
     ]
    }
   ],
   "metadata": {}
  },
  {
   "cell_type": "markdown",
   "source": [
    "Also, you can search for the synsets that have the exact relation with the synset."
   ],
   "metadata": {}
  },
  {
   "cell_type": "code",
   "execution_count": 33,
   "source": [
    "related_synsets = syn_example.get_related_synsets()\n",
    "print(\"There are {} synsets that have relation with the {}, they are: \".format(len(related_synsets), syn_example))\n",
    "print(related_synsets[:10])"
   ],
   "outputs": [
    {
     "output_type": "stream",
     "name": "stdout",
     "text": [
      "There are 756 synsets that have relation with the bn:00081866n|yellow|黄色, they are: \n",
      "[bn:00006911n|gold|金, bn:00003956n|andorra|安道尔, bn:00050669n|lenin|列宁, bn:00004108n|angiosperm|被子植物, bn:00055052n|mm|毫米, bn:00061778n|plague|鼠疫, bn:00043411n|wild_pansy|三色堇, bn:00010205n|bhutan|不丹, bn:00113968a|yellow|黄, bn:00011477n|blue|蓝色]\n"
     ]
    }
   ],
   "metadata": {}
  },
  {
   "cell_type": "markdown",
   "source": [
    "The package also provides search for the sememe list by the BabelNet sememe annotations.\n",
    "The API is similar with the HowNet APIs."
   ],
   "metadata": {}
  },
  {
   "cell_type": "code",
   "execution_count": 34,
   "source": [
    "print(hownet_dict_anvanced.get_sememes_by_word_in_BabelNet('黄色'))\n",
    "print(hownet_dict_anvanced.get_sememes_by_word_in_BabelNet('黄色',merge=True))"
   ],
   "outputs": [
    {
     "output_type": "stream",
     "name": "stdout",
     "text": [
      "[{'synset': bn:00081866n|yellow|黄色, 'sememes': [yellow|黄]}, {'synset': bn:00113968a|yellow|黄, 'sememes': [yellow|黄]}, {'synset': bn:00101430a|dirty|淫秽的, 'sememes': [lascivious|淫, dirty|龊, despicable|卑劣, BadSocial|坏风气]}]\n",
      "[despicable|卑劣, BadSocial|坏风气, dirty|龊, yellow|黄, lascivious|淫]\n"
     ]
    }
   ],
   "metadata": {}
  }
 ],
 "metadata": {
  "interpreter": {
   "hash": "aee8b7b246df8f9039afb4144a1f6fd8d2ca17a180786b69acc140d282b71a49"
  },
  "kernelspec": {
   "name": "python3",
   "display_name": "Python 3.9.5 64-bit"
  },
  "language_info": {
   "codemirror_mode": {
    "name": "ipython",
    "version": 3
   },
   "file_extension": ".py",
   "mimetype": "text/x-python",
   "name": "python",
   "nbconvert_exporter": "python",
   "pygments_lexer": "ipython3",
   "version": "3.9.5"
  }
 },
 "nbformat": 4,
 "nbformat_minor": 2
}